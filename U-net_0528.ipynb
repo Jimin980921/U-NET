{
 "cells": [
  {
   "cell_type": "code",
   "execution_count": 1,
   "metadata": {},
   "outputs": [
    {
     "name": "stderr",
     "output_type": "stream",
     "text": [
      "Using TensorFlow backend.\n",
      "C:\\Users\\jmlee\\anaconda3\\lib\\site-packages\\tensorflow\\python\\framework\\dtypes.py:516: FutureWarning: Passing (type, 1) or '1type' as a synonym of type is deprecated; in a future version of numpy, it will be understood as (type, (1,)) / '(1,)type'.\n",
      "  _np_qint8 = np.dtype([(\"qint8\", np.int8, 1)])\n",
      "C:\\Users\\jmlee\\anaconda3\\lib\\site-packages\\tensorflow\\python\\framework\\dtypes.py:517: FutureWarning: Passing (type, 1) or '1type' as a synonym of type is deprecated; in a future version of numpy, it will be understood as (type, (1,)) / '(1,)type'.\n",
      "  _np_quint8 = np.dtype([(\"quint8\", np.uint8, 1)])\n",
      "C:\\Users\\jmlee\\anaconda3\\lib\\site-packages\\tensorflow\\python\\framework\\dtypes.py:518: FutureWarning: Passing (type, 1) or '1type' as a synonym of type is deprecated; in a future version of numpy, it will be understood as (type, (1,)) / '(1,)type'.\n",
      "  _np_qint16 = np.dtype([(\"qint16\", np.int16, 1)])\n",
      "C:\\Users\\jmlee\\anaconda3\\lib\\site-packages\\tensorflow\\python\\framework\\dtypes.py:519: FutureWarning: Passing (type, 1) or '1type' as a synonym of type is deprecated; in a future version of numpy, it will be understood as (type, (1,)) / '(1,)type'.\n",
      "  _np_quint16 = np.dtype([(\"quint16\", np.uint16, 1)])\n",
      "C:\\Users\\jmlee\\anaconda3\\lib\\site-packages\\tensorflow\\python\\framework\\dtypes.py:520: FutureWarning: Passing (type, 1) or '1type' as a synonym of type is deprecated; in a future version of numpy, it will be understood as (type, (1,)) / '(1,)type'.\n",
      "  _np_qint32 = np.dtype([(\"qint32\", np.int32, 1)])\n",
      "C:\\Users\\jmlee\\anaconda3\\lib\\site-packages\\tensorflow\\python\\framework\\dtypes.py:525: FutureWarning: Passing (type, 1) or '1type' as a synonym of type is deprecated; in a future version of numpy, it will be understood as (type, (1,)) / '(1,)type'.\n",
      "  np_resource = np.dtype([(\"resource\", np.ubyte, 1)])\n",
      "C:\\Users\\jmlee\\anaconda3\\lib\\site-packages\\tensorboard\\compat\\tensorflow_stub\\dtypes.py:541: FutureWarning: Passing (type, 1) or '1type' as a synonym of type is deprecated; in a future version of numpy, it will be understood as (type, (1,)) / '(1,)type'.\n",
      "  _np_qint8 = np.dtype([(\"qint8\", np.int8, 1)])\n",
      "C:\\Users\\jmlee\\anaconda3\\lib\\site-packages\\tensorboard\\compat\\tensorflow_stub\\dtypes.py:542: FutureWarning: Passing (type, 1) or '1type' as a synonym of type is deprecated; in a future version of numpy, it will be understood as (type, (1,)) / '(1,)type'.\n",
      "  _np_quint8 = np.dtype([(\"quint8\", np.uint8, 1)])\n",
      "C:\\Users\\jmlee\\anaconda3\\lib\\site-packages\\tensorboard\\compat\\tensorflow_stub\\dtypes.py:543: FutureWarning: Passing (type, 1) or '1type' as a synonym of type is deprecated; in a future version of numpy, it will be understood as (type, (1,)) / '(1,)type'.\n",
      "  _np_qint16 = np.dtype([(\"qint16\", np.int16, 1)])\n",
      "C:\\Users\\jmlee\\anaconda3\\lib\\site-packages\\tensorboard\\compat\\tensorflow_stub\\dtypes.py:544: FutureWarning: Passing (type, 1) or '1type' as a synonym of type is deprecated; in a future version of numpy, it will be understood as (type, (1,)) / '(1,)type'.\n",
      "  _np_quint16 = np.dtype([(\"quint16\", np.uint16, 1)])\n",
      "C:\\Users\\jmlee\\anaconda3\\lib\\site-packages\\tensorboard\\compat\\tensorflow_stub\\dtypes.py:545: FutureWarning: Passing (type, 1) or '1type' as a synonym of type is deprecated; in a future version of numpy, it will be understood as (type, (1,)) / '(1,)type'.\n",
      "  _np_qint32 = np.dtype([(\"qint32\", np.int32, 1)])\n",
      "C:\\Users\\jmlee\\anaconda3\\lib\\site-packages\\tensorboard\\compat\\tensorflow_stub\\dtypes.py:550: FutureWarning: Passing (type, 1) or '1type' as a synonym of type is deprecated; in a future version of numpy, it will be understood as (type, (1,)) / '(1,)type'.\n",
      "  np_resource = np.dtype([(\"resource\", np.ubyte, 1)])\n"
     ]
    }
   ],
   "source": [
    "import os\n",
    "import sys\n",
    "import random\n",
    "import warnings\n",
    "import cv2\n",
    "\n",
    "import numpy as np\n",
    "import pandas as pd\n",
    "\n",
    "import matplotlib.pyplot as plt\n",
    "\n",
    "from tqdm import tqdm\n",
    "from itertools import chain\n",
    "from skimage.io import imread, imshow, imread_collection, concatenate_images\n",
    "from skimage.transform import resize\n",
    "from skimage.morphology import label\n",
    "\n",
    "from keras.models import Model, load_model\n",
    "from keras.layers import Input\n",
    "from keras.layers.core import Dropout, Lambda\n",
    "from keras.layers.convolutional import Conv2D, Conv2DTranspose\n",
    "from keras.layers.pooling import MaxPooling2D\n",
    "from keras.layers.merge import concatenate\n",
    "from keras.callbacks import EarlyStopping, ModelCheckpoint\n",
    "from keras import backend as K\n",
    "\n",
    "import tensorflow as tf\n",
    "\n",
    "# Set some parameters\n",
    "IMG_WIDTH = 608\n",
    "IMG_HEIGHT = 240\n",
    "IMG_CHANNELS = 3\n",
    "\n",
    "TRAIN_PATH='C:/Users/jmlee/Desktop/4학년 1학기/졸프/U-Net/input_train/'\n",
    "TEST_PATH ='C:/Users/jmlee/Desktop/4학년 1학기/졸프/U-Net/input_test/'\n",
    "MASK_TRAIN='C:/Users/jmlee/Desktop/4학년 1학기/졸프/U-Net/ex_train/'\n",
    "# MASK_TEST=r'C:\\Users\\jmlee\\Desktop\\4학년 1학기\\졸프\\U-Net\\정맥추출_test'\n",
    "\n",
    "warnings.filterwarnings('ignore', category=UserWarning, module='skimage')\n",
    "seed = 42\n",
    "random.seed = seed\n",
    "np.random.seed = seed"
   ]
  },
  {
   "cell_type": "code",
   "execution_count": 2,
   "metadata": {},
   "outputs": [
    {
     "data": {
      "text/plain": [
       "<module 'tensorflow._api.v1.version' from 'C:\\\\Users\\\\jmlee\\\\anaconda3\\\\lib\\\\site-packages\\\\tensorflow\\\\_api\\\\v1\\\\version\\\\__init__.py'>"
      ]
     },
     "execution_count": 2,
     "metadata": {},
     "output_type": "execute_result"
    }
   ],
   "source": [
    "tf. version"
   ]
  },
  {
   "cell_type": "markdown",
   "metadata": {},
   "source": [
    "## Train, Test"
   ]
  },
  {
   "cell_type": "code",
   "execution_count": 3,
   "metadata": {},
   "outputs": [],
   "source": [
    "# #한글이름 사진 로드\n",
    "from PIL import Image\n",
    "\n",
    "#gray로 불러와야 threshold  함수 사용가능\n",
    "def hangulFilePathImageRead2 (filePath ) :  \n",
    "    stream = open(filePath.encode(\"utf-8\") , \"rb\")\n",
    "    bytes = bytearray(stream.read())\n",
    "    numpyArray = np.asarray(bytes, dtype=np.uint8)\n",
    "\n",
    "    return cv2.imdecode(numpyArray , cv2.IMREAD_GRAYSCALE)\n",
    "\n",
    "# def hangulFilePathImageRead (filePath ) :\n",
    "\n",
    "#     stream = open( filePath.encode(\"utf-8\") , \"rb\")\n",
    "#     bytes = bytearray(stream.read())\n",
    "#     numpyArray = np.asarray(bytes, dtype=np.uint8)\n",
    "\n",
    "#     return cv2.imdecode(numpyArray , cv2.IMREAD_COLOR)  #3채널로 가져오기\n",
    "\n",
    "# #train\n",
    "# if __name__ == '__main__':\n",
    "#     train_mask_=[]\n",
    "#     train__=[]\n",
    "#     for f in os.listdir(TRAIN_PATH):  \n",
    "#         if f.split('.')[1] =='jpg':\n",
    "#             filePath = r'C:/Users/jmlee/Desktop/4학년 1학기/졸프/U-Net/정맥전체(.jpg)'+'/'+f\n",
    "#             train_= hangulFilePathImageRead2(filePath)  #이미지\n",
    "#             train__.append(train_)\n",
    "#             train_mask = cv2.adaptiveThreshold(train_,255,cv2.ADAPTIVE_THRESH_MEAN_C,cv2.THRESH_BINARY,19, 15) #마스크\n",
    "#             train_mask_.append(train_mask)\n",
    "            \n",
    "            \n",
    "            \n",
    "# #test\n",
    "# if __name__ == '__main__':\n",
    "#     test_mask_=[]\n",
    "#     test__=[]\n",
    "#     for f_ in os.listdir(TEST_PATH):  \n",
    "#         if f_.split('.')[1] =='jpg':\n",
    "#             filePath = (r\"C:/Users/jmlee/Desktop/4학년 1학기/졸프/U-Net/input_test\"+'/'+f_)  \n",
    "#             test_ = hangulFilePathImageRead2(filePath)  #이미지\n",
    "#             test__.append(test_)\n",
    "#             test_mask = cv2.adaptiveThreshold(test_,255,cv2.ADAPTIVE_THRESH_MEAN_C,cv2.THRESH_BINARY,19, 15)  #마스크\n",
    "#             test_mask_.append(test_mask)\n",
    "            \n",
    "# #             print(f_)"
   ]
  },
  {
   "cell_type": "code",
   "execution_count": 4,
   "metadata": {},
   "outputs": [],
   "source": [
    "# Get train and test IDs\n",
    "# train_path=os.walk(TRAIN_PATH)  #agumenatation한것_에러 안남\n",
    "# train_ids = next(train_path)[2]\n",
    "\n",
    "train_path=os.walk(TRAIN_PATH) #raw\n",
    "train_ids= next(train_path)[2]\n",
    "\n",
    "test_path=os.walk(TEST_PATH)\n",
    "test_ids = next(test_path)[2]\n",
    "\n",
    "mask_path=os.walk(MASK_TRAIN)\n",
    "mask_ids = next(mask_path)[2]"
   ]
  },
  {
   "cell_type": "code",
   "execution_count": 5,
   "metadata": {},
   "outputs": [
    {
     "data": {
      "text/plain": [
       "(130,)"
      ]
     },
     "execution_count": 5,
     "metadata": {},
     "output_type": "execute_result"
    }
   ],
   "source": [
    "a=np.array(train_ids)\n",
    "a.shape"
   ]
  },
  {
   "cell_type": "code",
   "execution_count": 6,
   "metadata": {},
   "outputs": [
    {
     "data": {
      "text/plain": [
       "['[SEG]강병준_1_1.jpg',\n",
       " '[SEG]강병준_2_1.jpg',\n",
       " '[SEG]강병준_3_1.jpg',\n",
       " '[SEG]강병준_4_1.jpg',\n",
       " '[SEG]강병준_6_1.jpg',\n",
       " '[SEG]강병준_7_1.jpg',\n",
       " '[SEG]강병준_8_1.jpg',\n",
       " '[SEG]강병준_9_1.jpg',\n",
       " '[SEG]고유진_1_1.jpg',\n",
       " '[SEG]고유진_2_1.jpg',\n",
       " '[SEG]고유진_3_1.jpg',\n",
       " '[SEG]고유진_4_1.jpg',\n",
       " '[SEG]고유진_6_1.jpg',\n",
       " '[SEG]고유진_7_1.jpg',\n",
       " '[SEG]고유진_8_1.jpg',\n",
       " '[SEG]고유진_9_1.jpg',\n",
       " '[SEG]김민호_1_1.jpg',\n",
       " '[SEG]김민호_2_1.jpg',\n",
       " '[SEG]김민호_3_1.jpg',\n",
       " '[SEG]김민호_4_1.jpg',\n",
       " '[SEG]김민호_6_1.jpg',\n",
       " '[SEG]김민호_7_1.jpg',\n",
       " '[SEG]김민호_8_1.jpg',\n",
       " '[SEG]김민호_9_1.jpg',\n",
       " '[SEG]김보나_1_1.jpg',\n",
       " '[SEG]김보나_2_1.jpg',\n",
       " '[SEG]김보나_3_1.jpg',\n",
       " '[SEG]김보나_6_1.jpg',\n",
       " '[SEG]김보나_7_1.jpg',\n",
       " '[SEG]김보나_8_1.jpg',\n",
       " '[SEG]김승용_1_1.jpg',\n",
       " '[SEG]김승용_2_1.jpg',\n",
       " '[SEG]김승용_3_1.jpg',\n",
       " '[SEG]김승용_4_1.jpg',\n",
       " '[SEG]김승용_6_1.jpg',\n",
       " '[SEG]김승용_7_1.jpg',\n",
       " '[SEG]김승용_8_1.jpg',\n",
       " '[SEG]김승용_9_1.jpg',\n",
       " '[SEG]김유미_1_1.jpg',\n",
       " '[SEG]김유미_2_1.jpg',\n",
       " '[SEG]김유미_3_1.jpg',\n",
       " '[SEG]김유미_6_1.jpg',\n",
       " '[SEG]김유미_7_1.jpg',\n",
       " '[SEG]김유미_8_1.jpg',\n",
       " '[SEG]김주리_1_1.jpg',\n",
       " '[SEG]김주리_2_1.jpg',\n",
       " '[SEG]김주리_3_1.jpg',\n",
       " '[SEG]김주리_4_1.jpg',\n",
       " '[SEG]김주리_6_1.jpg',\n",
       " '[SEG]김주리_7_1.jpg',\n",
       " '[SEG]김주리_8_1.jpg',\n",
       " '[SEG]김주리_9_1.jpg',\n",
       " '[SEG]김지현_1_1.jpg',\n",
       " '[SEG]김지현_2_1.jpg',\n",
       " '[SEG]김지현_3_1.jpg',\n",
       " '[SEG]김지현_4_1.jpg',\n",
       " '[SEG]김지현_6_1.jpg',\n",
       " '[SEG]김지현_7_1.jpg',\n",
       " '[SEG]김지현_8_1.jpg',\n",
       " '[SEG]김지현_9_1.jpg',\n",
       " '[SEG]남기표_1_1.jpg',\n",
       " '[SEG]남기표_2_1.jpg',\n",
       " '[SEG]남기표_3_1.jpg',\n",
       " '[SEG]남기표_4_1.jpg',\n",
       " '[SEG]남기표_6_1.jpg',\n",
       " '[SEG]남기표_7_1.jpg',\n",
       " '[SEG]남기표_8_1.jpg',\n",
       " '[SEG]남기표_9_1.jpg',\n",
       " '[SEG]남현하_1_1.jpg',\n",
       " '[SEG]남현하_1_4.jpg',\n",
       " '[SEG]남현하_2_1.jpg',\n",
       " '[SEG]남현하_3_1.jpg',\n",
       " '[SEG]남현하_6_1.jpg',\n",
       " '[SEG]남현하_7_1.jpg',\n",
       " '[SEG]남현하_8_1.jpg',\n",
       " '[SEG]남현하_9_1.jpg',\n",
       " '[SEG]박강령_1_1.jpg',\n",
       " '[SEG]박강령_2_1.jpg',\n",
       " '[SEG]박강령_3_1.jpg',\n",
       " '[SEG]박강령_4_1.jpg',\n",
       " '[SEG]박강령_6_1.jpg',\n",
       " '[SEG]박강령_7_1.jpg',\n",
       " '[SEG]박강령_8_1.jpg',\n",
       " '[SEG]박강령_9_1.jpg',\n",
       " '[SEG]박선호_1_1.jpg',\n",
       " '[SEG]박선호_2_1.jpg',\n",
       " '[SEG]박선호_3_1.jpg',\n",
       " '[SEG]박선호_4_1.jpg',\n",
       " '[SEG]박선호_6_1.jpg',\n",
       " '[SEG]박선호_7_1.jpg',\n",
       " '[SEG]박선호_8_1.jpg',\n",
       " '[SEG]박선호_9_1.jpg',\n",
       " '[SEG]박영호_1_1.jpg',\n",
       " '[SEG]박영호_2_1.jpg',\n",
       " '[SEG]박영호_3_1.jpg',\n",
       " '[SEG]박영호_4_1.jpg',\n",
       " '[SEG]박영호_6_1.jpg',\n",
       " '[SEG]박영호_7_1.jpg',\n",
       " '[SEG]박영호_8_1.jpg',\n",
       " '[SEG]박영호_9_1.jpg',\n",
       " '[SEG]박천우_1_1.jpg',\n",
       " '[SEG]박천우_2_1.jpg',\n",
       " '[SEG]박천우_3_1.jpg',\n",
       " '[SEG]박천우_4_1.jpg',\n",
       " '[SEG]박천우_6_1.jpg',\n",
       " '[SEG]박천우_7_1.jpg',\n",
       " '[SEG]박천우_8_1.jpg',\n",
       " '[SEG]박천우_9_1.jpg',\n",
       " '[SEG]신광용_1_1.jpg',\n",
       " '[SEG]신광용_2_1.jpg',\n",
       " '[SEG]신광용_3_1.jpg',\n",
       " '[SEG]신광용_6_1.jpg',\n",
       " '[SEG]신광용_7_1.jpg',\n",
       " '[SEG]신광용_8_1.jpg',\n",
       " '[SEG]윤기훈_1_1.jpg',\n",
       " '[SEG]윤기훈_2_1.jpg',\n",
       " '[SEG]윤기훈_3_1.jpg',\n",
       " '[SEG]윤기훈_4_1.jpg',\n",
       " '[SEG]윤기훈_6_1.jpg',\n",
       " '[SEG]윤기훈_7_1.jpg',\n",
       " '[SEG]윤기훈_8_1.jpg',\n",
       " '[SEG]윤기훈_9_1.jpg',\n",
       " '[SEG]이시몽_1_1.jpg',\n",
       " '[SEG]이시몽_2_1.jpg',\n",
       " '[SEG]이시몽_3_1.jpg',\n",
       " '[SEG]이시몽_4_1.jpg',\n",
       " '[SEG]이시몽_6_1.jpg',\n",
       " '[SEG]이시몽_7_1.jpg',\n",
       " '[SEG]이시몽_8_1.jpg',\n",
       " '[SEG]이시몽_9_1.jpg']"
      ]
     },
     "execution_count": 6,
     "metadata": {},
     "output_type": "execute_result"
    }
   ],
   "source": [
    "train_ids"
   ]
  },
  {
   "cell_type": "code",
   "execution_count": 7,
   "metadata": {},
   "outputs": [
    {
     "data": {
      "text/plain": [
       "['[SEG]강병준_1_1.jpg',\n",
       " '[SEG]강병준_2_1 .jpg',\n",
       " '[SEG]강병준_3_1 .jpg',\n",
       " '[SEG]강병준_4_1 .jpg',\n",
       " '[SEG]강병준_6_1 .jpg',\n",
       " '[SEG]강병준_7_1 .jpg',\n",
       " '[SEG]강병준_8_1 .jpg',\n",
       " '[SEG]강병준_9_1 복사본.jpg',\n",
       " '[SEG]고유진_1_1 복사본.jpg',\n",
       " '[SEG]고유진_2_1 복사본.jpg',\n",
       " '[SEG]고유진_3_1 복사본.jpg',\n",
       " '[SEG]고유진_4_1 복사본.jpg',\n",
       " '[SEG]고유진_6_1 복사본.jpg',\n",
       " '[SEG]고유진_7_1 복사본.jpg',\n",
       " '[SEG]고유진_8_1 복사본.jpg',\n",
       " '[SEG]고유진_9_1 복사본.jpg',\n",
       " '[SEG]김민호_1_1 복사본.jpg',\n",
       " '[SEG]김민호_2_1 복사본.jpg',\n",
       " '[SEG]김민호_3_1 복사본.jpg',\n",
       " '[SEG]김민호_4_1 복사본.jpg',\n",
       " '[SEG]김민호_6_1 복사본.jpg',\n",
       " '[SEG]김민호_7_1 복사본.jpg',\n",
       " '[SEG]김민호_8_1 복사본.jpg',\n",
       " '[SEG]김민호_9_1 복사본.jpg',\n",
       " '[SEG]김보나_1_1 복사본.jpg',\n",
       " '[SEG]김보나_2_1 복사본.jpg',\n",
       " '[SEG]김보나_3_1 복사본.jpg',\n",
       " '[SEG]김보나_6_1 복사본.jpg',\n",
       " '[SEG]김보나_7_1 복사본.jpg',\n",
       " '[SEG]김보나_8_1 복사본.jpg',\n",
       " '[SEG]김승용_1_1 복사본.jpg',\n",
       " '[SEG]김승용_2_1 복사본.jpg',\n",
       " '[SEG]김승용_3_1 복사본.jpg',\n",
       " '[SEG]김승용_4_1 복사본.jpg',\n",
       " '[SEG]김승용_6_1 복사본.jpg',\n",
       " '[SEG]김승용_7_1 복사본.jpg',\n",
       " '[SEG]김승용_8_1 복사본.jpg',\n",
       " '[SEG]김승용_9_1 복사본.jpg',\n",
       " '[SEG]김유미_1_1 복사본.jpg',\n",
       " '[SEG]김유미_2_1 복사본.jpg',\n",
       " '[SEG]김유미_3_1 복사본.jpg',\n",
       " '[SEG]김유미_6_1 복사본.jpg',\n",
       " '[SEG]김유미_7_1 복사본.jpg',\n",
       " '[SEG]김유미_8_1 복사본.jpg',\n",
       " '[SEG]김주리_1_1 복사본.jpg',\n",
       " '[SEG]김주리_2_1 복사본.jpg',\n",
       " '[SEG]김주리_3_1 복사본.jpg',\n",
       " '[SEG]김주리_4_1 복사본.jpg',\n",
       " '[SEG]김주리_6_1 복사본.jpg',\n",
       " '[SEG]김주리_7_1 복사본.jpg',\n",
       " '[SEG]김주리_8_1 복사본.jpg',\n",
       " '[SEG]김주리_9_1 복사본.jpg',\n",
       " '[SEG]김지현1.jpg',\n",
       " '[SEG]김지현2.jpg',\n",
       " '[SEG]김지현3.jpg',\n",
       " '[SEG]김지현4.jpg',\n",
       " '[SEG]김지현6.jpg',\n",
       " '[SEG]김지현7.jpg',\n",
       " '[SEG]김지현8.jpg',\n",
       " '[SEG]김지현9.jpg',\n",
       " '[SEG]남기표1.jpg',\n",
       " '[SEG]남기표2.jpg',\n",
       " '[SEG]남기표3.jpg',\n",
       " '[SEG]남기표4.jpg',\n",
       " '[SEG]남기표6.jpg',\n",
       " '[SEG]남기표7.jpg',\n",
       " '[SEG]남기표8.jpg',\n",
       " '[SEG]남기표9.jpg',\n",
       " '[SEG]남현하1.jpg',\n",
       " '[SEG]남현하2.jpg',\n",
       " '[SEG]남현하3.jpg',\n",
       " '[SEG]남현하4.jpg',\n",
       " '[SEG]남현하6.jpg',\n",
       " '[SEG]남현하7.jpg',\n",
       " '[SEG]남현하8.jpg',\n",
       " '[SEG]남현하9.jpg',\n",
       " '[SEG]박강령1.jpg',\n",
       " '[SEG]박강령2.jpg',\n",
       " '[SEG]박강령3.jpg',\n",
       " '[SEG]박강령4.jpg',\n",
       " '[SEG]박강령6.jpg',\n",
       " '[SEG]박강령7.jpg',\n",
       " '[SEG]박강령8.jpg',\n",
       " '[SEG]박강령9.jpg',\n",
       " '[SEG]박선호1.jpg',\n",
       " '[SEG]박선호2.jpg',\n",
       " '[SEG]박선호3.jpg',\n",
       " '[SEG]박선호4.jpg',\n",
       " '[SEG]박선호6.jpg',\n",
       " '[SEG]박선호7.jpg',\n",
       " '[SEG]박선호8.jpg',\n",
       " '[SEG]박선호9.jpg',\n",
       " '[SEG]박영호1.jpg',\n",
       " '[SEG]박영호2.jpg',\n",
       " '[SEG]박영호3.jpg',\n",
       " '[SEG]박영호4.jpg',\n",
       " '[SEG]박영호6.jpg',\n",
       " '[SEG]박영호7.jpg',\n",
       " '[SEG]박영호8.jpg',\n",
       " '[SEG]박영호9.jpg',\n",
       " '[SEG]박천우1.jpg',\n",
       " '[SEG]박천우2.jpg',\n",
       " '[SEG]박천우3.jpg',\n",
       " '[SEG]박천우4.jpg',\n",
       " '[SEG]박천우6.jpg',\n",
       " '[SEG]박천우7.jpg',\n",
       " '[SEG]박천우8.jpg',\n",
       " '[SEG]박천우9.jpg',\n",
       " '[SEG]신광용_1_9.jpg',\n",
       " '[SEG]신광용_2_9.jpg',\n",
       " '[SEG]신광용_3_9.jpg',\n",
       " '[SEG]신광용_6_9.jpg',\n",
       " '[SEG]신광용_7_9.jpg',\n",
       " '[SEG]신광용_8_9.jpg',\n",
       " '[SEG]윤기훈_1_9.jpg',\n",
       " '[SEG]윤기훈_2_9.jpg',\n",
       " '[SEG]윤기훈_3_9.jpg',\n",
       " '[SEG]윤기훈_4_9.jpg',\n",
       " '[SEG]윤기훈_6_9.jpg',\n",
       " '[SEG]윤기훈_7_9.jpg',\n",
       " '[SEG]윤기훈_8_9.jpg',\n",
       " '[SEG]윤기훈_9_9.jpg',\n",
       " '[SEG]이시몽_1_9.jpg',\n",
       " '[SEG]이시몽_2_9.jpg',\n",
       " '[SEG]이시몽_3_9.jpg',\n",
       " '[SEG]이시몽_4_9.jpg',\n",
       " '[SEG]이시몽_6_9.jpg',\n",
       " '[SEG]이시몽_7_9.jpg',\n",
       " '[SEG]이시몽_8_9.jpg',\n",
       " '[SEG]이시몽_9_9.jpg']"
      ]
     },
     "execution_count": 7,
     "metadata": {},
     "output_type": "execute_result"
    }
   ],
   "source": [
    "mask_ids"
   ]
  },
  {
   "cell_type": "markdown",
   "metadata": {},
   "source": [
    "## 추출된 이미지\n",
    "이진화 한 것을 mask에 저장"
   ]
  },
  {
   "cell_type": "code",
   "execution_count": null,
   "metadata": {},
   "outputs": [],
   "source": [
    "# import cv2\n",
    "# import numpy as np \n",
    "# from matplotlib import pyplot as plt \n",
    "\n",
    "\n",
    "# #gray로 불러와야 threshold  함수 사용가능\n",
    "# def hangulFilePathImageRead2 (filePath ) :  \n",
    "#     stream = open( filePath.encode(\"utf-8\") , \"rb\")\n",
    "#     bytes = bytearray(stream.read())\n",
    "#     numpyArray = np.asarray(bytes, dtype=np.uint8)\n",
    "\n",
    "#     return cv2.imdecode(numpyArray , cv2.IMREAD_GRAYSCALE)\n",
    "\n",
    "# img=hangulFilePathImageRead2(r'C:/Users/jmlee/Desktop/U-Net/정맥추출_train/[SEG]김보나_7_1.jpg')\n",
    "\n",
    "# ret, th1 = cv2.threshold(img,127,255,cv2.THRESH_BINARY)\n",
    "\n",
    "# gaussian = cv2.adaptiveThreshold(img,255,cv2.ADAPTIVE_THRESH_GAUSSIAN_C,\\\n",
    "# cv2.THRESH_BINARY,15,8)\n",
    "\n",
    "# mean1 = cv2.adaptiveThreshold(img,255,cv2.ADAPTIVE_THRESH_MEAN_C,\\\n",
    "# cv2.THRESH_BINARY,11, 7)\n",
    "\n",
    "# mean2 = cv2.adaptiveThreshold(img,255,cv2.ADAPTIVE_THRESH_MEAN_C,\\\n",
    "# cv2.THRESH_BINARY,19, 15)\n",
    "\n",
    "# mean3 = cv2.adaptiveThreshold(img,255,cv2.ADAPTIVE_THRESH_MEAN_C,\\\n",
    "# cv2.THRESH_BINARY,15, 11)\n",
    "\n",
    "# titles = ['img','gaussian','mean1','mean2','mean3']\n",
    "\n",
    "# images = [img,gaussian,mean1,mean2,mean3]\n",
    "\n",
    "# for i in range(5):\n",
    "# \tplt.subplot(3,3,i+1),plt.imshow(images[i],'gray')\n",
    "# \tplt.title(titles[i])\n",
    "# \tplt.xticks([]),plt.yticks([])\n",
    "\n",
    "# plt.show()"
   ]
  },
  {
   "cell_type": "code",
   "execution_count": null,
   "metadata": {},
   "outputs": [],
   "source": [
    "# mean2 = cv2.adaptiveThreshold(img,255,cv2.ADAPTIVE_THRESH_MEAN_C,\\\n",
    "# cv2.THRESH_BINARY,19, 15)"
   ]
  },
  {
   "cell_type": "code",
   "execution_count": null,
   "metadata": {},
   "outputs": [],
   "source": [
    "a = np.array([[1,2,3,4], [5,6,7,8], [9,10,11,12]])\n",
    "a.shape # (3,4)\n",
    "a.ndim # 2\n"
   ]
  },
  {
   "cell_type": "code",
   "execution_count": null,
   "metadata": {},
   "outputs": [],
   "source": [
    "b = np.array([[1,2,3,4], [5,6,7,8], [9,10,11]])\n",
    "b.shape # (3,)\n",
    "b.ndim # 1"
   ]
  },
  {
   "cell_type": "markdown",
   "metadata": {},
   "source": [
    "## 데이터 전처리"
   ]
  },
  {
   "cell_type": "code",
   "execution_count": 8,
   "metadata": {
    "scrolled": true
   },
   "outputs": [
    {
     "name": "stdout",
     "output_type": "stream",
     "text": [
      "Getting and resizing train images and masks ... \n"
     ]
    },
    {
     "name": "stderr",
     "output_type": "stream",
     "text": [
      "100%|████████████████████████████████████████████████████████████████████████████████| 130/130 [00:05<00:00, 25.01it/s]\n",
      "100%|████████████████████████████████████████████████████████████████████████████████| 130/130 [00:01<00:00, 71.70it/s]"
     ]
    },
    {
     "name": "stdout",
     "output_type": "stream",
     "text": [
      "Getting and resizing test images ... \n"
     ]
    },
    {
     "name": "stderr",
     "output_type": "stream",
     "text": [
      "\n",
      "100%|████████████████████████████████████████████████████████████████████████████████| 118/118 [00:04<00:00, 25.89it/s]"
     ]
    },
    {
     "name": "stdout",
     "output_type": "stream",
     "text": [
      "Done!\n"
     ]
    },
    {
     "name": "stderr",
     "output_type": "stream",
     "text": [
      "\n"
     ]
    }
   ],
   "source": [
    "X_train = np.zeros((len(train_ids), IMG_HEIGHT, IMG_WIDTH, IMG_CHANNELS), dtype=np.uint8)\n",
    "Y_train = np.zeros((len(train_ids), IMG_HEIGHT, IMG_WIDTH, 1), dtype=np.bool)\n",
    "print('Getting and resizing train images and masks ... ')\n",
    "sys.stdout.flush()\n",
    "for n, id_ in tqdm(enumerate(train_ids), total=len(train_ids)):\n",
    "    img = imread(TRAIN_PATH+id_)[:,:,:IMG_CHANNELS]\n",
    "    img = resize(img, (IMG_HEIGHT, IMG_WIDTH), mode='constant', preserve_range=True)\n",
    "    X_train[n] = img\n",
    "\n",
    "for n, id_ in tqdm(enumerate(mask_ids), total=len(mask_ids)):\n",
    "#adaptive input은 2차원이어야함. \n",
    "    mask = np.zeros((IMG_HEIGHT, IMG_WIDTH, 1), dtype=np.bool)\n",
    "    train_= hangulFilePathImageRead2(MASK_TRAIN+id_) #2차원으로 불러오는 코드 \n",
    "    mask_=cv2.adaptiveThreshold(train_,255,cv2.ADAPTIVE_THRESH_MEAN_C,\\\n",
    "cv2.THRESH_BINARY,11, 7) \n",
    "    mask_= np.expand_dims(resize(mask_, (IMG_HEIGHT, IMG_WIDTH), mode='constant', \n",
    "                                      preserve_range=True), axis=-1)\n",
    "    mask = np.maximum(mask, mask_)\n",
    "    Y_train[n] = mask\n",
    "\n",
    "# Get and resize test images\n",
    "X_test = np.zeros((len(test_ids), IMG_HEIGHT, IMG_WIDTH, IMG_CHANNELS), dtype=np.uint8)\n",
    "sizes_test = []\n",
    "print('Getting and resizing test images ... ')\n",
    "sys.stdout.flush()\n",
    "for n, id_ in tqdm(enumerate(test_ids), total=len(test_ids)):\n",
    "    img = imread(TEST_PATH+id_)[:,:,:IMG_CHANNELS]\n",
    "    sizes_test.append([img.shape[0], img.shape[1]])\n",
    "    img = resize(img, (IMG_HEIGHT, IMG_WIDTH), mode='constant', preserve_range=True)\n",
    "    X_test[n] = img\n",
    "\n",
    "print('Done!')"
   ]
  },
  {
   "cell_type": "code",
   "execution_count": 9,
   "metadata": {},
   "outputs": [
    {
     "data": {
      "text/plain": [
       "(60, 152)"
      ]
     },
     "execution_count": 9,
     "metadata": {},
     "output_type": "execute_result"
    }
   ],
   "source": [
    "train_.shape"
   ]
  },
  {
   "cell_type": "code",
   "execution_count": 10,
   "metadata": {},
   "outputs": [
    {
     "data": {
      "text/plain": [
       "(130, 240, 608, 3)"
      ]
     },
     "execution_count": 10,
     "metadata": {},
     "output_type": "execute_result"
    }
   ],
   "source": [
    "X_train.shape"
   ]
  },
  {
   "cell_type": "code",
   "execution_count": 11,
   "metadata": {},
   "outputs": [
    {
     "data": {
      "text/plain": [
       "(130, 240, 608, 1)"
      ]
     },
     "execution_count": 11,
     "metadata": {},
     "output_type": "execute_result"
    }
   ],
   "source": [
    "Y_train.shape"
   ]
  },
  {
   "cell_type": "code",
   "execution_count": 12,
   "metadata": {},
   "outputs": [
    {
     "name": "stdout",
     "output_type": "stream",
     "text": [
      "[[  0   0   0 ...   5 205 206]\n",
      " [  0   0   0 ...  16 200 195]\n",
      " [  0   0   0 ...  13  31   7]\n",
      " ...\n",
      " [ 79  80  82 ... 221 203 205]\n",
      " [ 73  80  87 ... 217 202 204]\n",
      " [ 24  21  18 ... 108 206 205]]\n"
     ]
    }
   ],
   "source": [
    "print(train_)"
   ]
  },
  {
   "cell_type": "code",
   "execution_count": 13,
   "metadata": {},
   "outputs": [
    {
     "data": {
      "text/plain": [
       "(240, 608, 1)"
      ]
     },
     "execution_count": 13,
     "metadata": {},
     "output_type": "execute_result"
    }
   ],
   "source": [
    "mask.shape #3차원"
   ]
  },
  {
   "cell_type": "code",
   "execution_count": 14,
   "metadata": {},
   "outputs": [
    {
     "data": {
      "text/plain": [
       "(240, 608, 3)"
      ]
     },
     "execution_count": 14,
     "metadata": {},
     "output_type": "execute_result"
    }
   ],
   "source": [
    "img.shape  #3차원"
   ]
  },
  {
   "cell_type": "code",
   "execution_count": 15,
   "metadata": {},
   "outputs": [
    {
     "data": {
      "image/png": "[encoded data removed]",
      "text/plain": [
       "<Figure size 432x288 with 1 Axes>"
      ]
     },
     "metadata": {
      "needs_background": "light"
     },
     "output_type": "display_data"
    },
    {
     "data": {
      "image/png": "[encoded data removed]",
      "text/plain": [
       "<Figure size 432x288 with 1 Axes>"
      ]
     },
     "metadata": {
      "needs_background": "light"
     },
     "output_type": "display_data"
    }
   ],
   "source": [
    "# Check if training data looks all right\n",
    "ix = random.randint(0, len(train_ids))\n",
    "imshow(X_train[ix])\n",
    "plt.show()\n",
    "imshow(np.squeeze(Y_train[ix]))\n",
    "plt.show()"
   ]
  },
  {
   "cell_type": "code",
   "execution_count": 16,
   "metadata": {},
   "outputs": [],
   "source": [
    "# Define IoU metric\n",
    "def mean_iou(y_true, y_pred):\n",
    "    prec = []\n",
    "    for t in np.arange(0.5, 1.0, 0.05):\n",
    "        y_pred_ = tf.to_int32(y_pred > t)\n",
    "        score, up_opt = tf.metrics.mean_iou(y_true, y_pred_, 2)\n",
    "        K.get_session().run(tf.local_variables_initializer())\n",
    "        with tf.control_dependencies([up_opt]):\n",
    "            score = tf.identity(score)\n",
    "        prec.append(score)\n",
    "    return K.mean(K.stack(prec), axis=0)"
   ]
  },
  {
   "cell_type": "code",
   "execution_count": 17,
   "metadata": {},
   "outputs": [],
   "source": [
    "# Build U-Net model\n",
    "inputs = Input((IMG_HEIGHT, IMG_WIDTH, IMG_CHANNELS))\n",
    "s = Lambda(lambda x: x / 255) (inputs)"
   ]
  },
  {
   "cell_type": "code",
   "execution_count": 18,
   "metadata": {},
   "outputs": [
    {
     "data": {
      "text/plain": [
       "TensorShape([Dimension(None), Dimension(240), Dimension(608), Dimension(3)])"
      ]
     },
     "execution_count": 18,
     "metadata": {},
     "output_type": "execute_result"
    }
   ],
   "source": [
    "s.shape"
   ]
  },
  {
   "cell_type": "code",
   "execution_count": 19,
   "metadata": {
    "scrolled": false
   },
   "outputs": [
    {
     "name": "stdout",
     "output_type": "stream",
     "text": [
      "Tensor(\"lambda_2/truediv:0\", shape=(?, 240, 608, 3), dtype=float32)\n",
      "c1 Tensor(\"conv2d_1/Elu:0\", shape=(?, 240, 608, 16), dtype=float32)\n",
      "c1 Tensor(\"conv2d_2/Elu:0\", shape=(?, 240, 608, 16), dtype=float32)\n",
      "WARNING:tensorflow:From C:\\Users\\jmlee\\anaconda3\\lib\\site-packages\\keras\\backend\\tensorflow_backend.py:4070: The name tf.nn.max_pool is deprecated. Please use tf.nn.max_pool2d instead.\n",
      "\n",
      "p1 Tensor(\"max_pooling2d_1/MaxPool:0\", shape=(?, 120, 304, 16), dtype=float32)\n",
      "c2 Tensor(\"conv2d_3/Elu:0\", shape=(?, 120, 304, 32), dtype=float32)\n",
      "c2 Tensor(\"conv2d_4/Elu:0\", shape=(?, 120, 304, 32), dtype=float32)\n",
      "p2 Tensor(\"max_pooling2d_2/MaxPool:0\", shape=(?, 60, 152, 32), dtype=float32)\n",
      "c3 Tensor(\"conv2d_5/Elu:0\", shape=(?, 60, 152, 64), dtype=float32)\n",
      "c3 Tensor(\"conv2d_6/Elu:0\", shape=(?, 60, 152, 64), dtype=float32)\n",
      "p3 Tensor(\"max_pooling2d_3/MaxPool:0\", shape=(?, 30, 76, 64), dtype=float32)\n",
      "c4 Tensor(\"conv2d_7/Elu:0\", shape=(?, 30, 76, 128), dtype=float32)\n",
      "c4 Tensor(\"conv2d_8/Elu:0\", shape=(?, 30, 76, 128), dtype=float32)\n",
      "p4 Tensor(\"max_pooling2d_4/MaxPool:0\", shape=(?, 15, 38, 128), dtype=float32)\n",
      "WARNING:tensorflow:From <ipython-input-16-06be6bdbb4c6>:5: to_int32 (from tensorflow.python.ops.math_ops) is deprecated and will be removed in a future version.\n",
      "Instructions for updating:\n",
      "Use `tf.cast` instead.\n",
      "WARNING:tensorflow:From C:\\Users\\jmlee\\anaconda3\\lib\\site-packages\\tensorflow\\python\\ops\\metrics_impl.py:1178: add_dispatch_support.<locals>.wrapper (from tensorflow.python.ops.array_ops) is deprecated and will be removed in a future version.\n",
      "Instructions for updating:\n",
      "Use tf.where in 2.0, which has the same broadcast rule as np.where\n",
      "WARNING:tensorflow:From C:\\Users\\jmlee\\anaconda3\\lib\\site-packages\\tensorflow\\python\\ops\\metrics_impl.py:1179: div (from tensorflow.python.ops.math_ops) is deprecated and will be removed in a future version.\n",
      "Instructions for updating:\n",
      "Deprecated in favor of operator or tf.math.divide.\n",
      "Model: \"model_1\"\n",
      "__________________________________________________________________________________________________\n",
      "Layer (type)                    Output Shape         Param #     Connected to                     \n",
      "==================================================================================================\n",
      "input_2 (InputLayer)            (None, 240, 608, 3)  0                                            \n",
      "__________________________________________________________________________________________________\n",
      "lambda_2 (Lambda)               (None, 240, 608, 3)  0           input_2[0][0]                    \n",
      "__________________________________________________________________________________________________\n",
      "conv2d_1 (Conv2D)               (None, 240, 608, 16) 448         lambda_2[0][0]                   \n",
      "__________________________________________________________________________________________________\n",
      "dropout_1 (Dropout)             (None, 240, 608, 16) 0           conv2d_1[0][0]                   \n",
      "__________________________________________________________________________________________________\n",
      "conv2d_2 (Conv2D)               (None, 240, 608, 16) 2320        dropout_1[0][0]                  \n",
      "__________________________________________________________________________________________________\n",
      "max_pooling2d_1 (MaxPooling2D)  (None, 120, 304, 16) 0           conv2d_2[0][0]                   \n",
      "__________________________________________________________________________________________________\n",
      "conv2d_3 (Conv2D)               (None, 120, 304, 32) 4640        max_pooling2d_1[0][0]            \n",
      "__________________________________________________________________________________________________\n",
      "dropout_2 (Dropout)             (None, 120, 304, 32) 0           conv2d_3[0][0]                   \n",
      "__________________________________________________________________________________________________\n",
      "conv2d_4 (Conv2D)               (None, 120, 304, 32) 9248        dropout_2[0][0]                  \n",
      "__________________________________________________________________________________________________\n",
      "max_pooling2d_2 (MaxPooling2D)  (None, 60, 152, 32)  0           conv2d_4[0][0]                   \n",
      "__________________________________________________________________________________________________\n",
      "conv2d_5 (Conv2D)               (None, 60, 152, 64)  18496       max_pooling2d_2[0][0]            \n",
      "__________________________________________________________________________________________________\n",
      "dropout_3 (Dropout)             (None, 60, 152, 64)  0           conv2d_5[0][0]                   \n",
      "__________________________________________________________________________________________________\n",
      "conv2d_6 (Conv2D)               (None, 60, 152, 64)  36928       dropout_3[0][0]                  \n",
      "__________________________________________________________________________________________________\n",
      "max_pooling2d_3 (MaxPooling2D)  (None, 30, 76, 64)   0           conv2d_6[0][0]                   \n",
      "__________________________________________________________________________________________________\n",
      "conv2d_7 (Conv2D)               (None, 30, 76, 128)  73856       max_pooling2d_3[0][0]            \n",
      "__________________________________________________________________________________________________\n",
      "dropout_4 (Dropout)             (None, 30, 76, 128)  0           conv2d_7[0][0]                   \n",
      "__________________________________________________________________________________________________\n",
      "conv2d_8 (Conv2D)               (None, 30, 76, 128)  147584      dropout_4[0][0]                  \n",
      "__________________________________________________________________________________________________\n",
      "max_pooling2d_4 (MaxPooling2D)  (None, 15, 38, 128)  0           conv2d_8[0][0]                   \n",
      "__________________________________________________________________________________________________\n",
      "conv2d_9 (Conv2D)               (None, 15, 38, 256)  295168      max_pooling2d_4[0][0]            \n",
      "__________________________________________________________________________________________________\n",
      "dropout_5 (Dropout)             (None, 15, 38, 256)  0           conv2d_9[0][0]                   \n",
      "__________________________________________________________________________________________________\n",
      "conv2d_10 (Conv2D)              (None, 15, 38, 256)  590080      dropout_5[0][0]                  \n",
      "__________________________________________________________________________________________________\n",
      "conv2d_transpose_1 (Conv2DTrans (None, 30, 76, 128)  131200      conv2d_10[0][0]                  \n",
      "__________________________________________________________________________________________________\n",
      "concatenate_1 (Concatenate)     (None, 30, 76, 256)  0           conv2d_transpose_1[0][0]         \n",
      "                                                                 conv2d_8[0][0]                   \n",
      "__________________________________________________________________________________________________\n",
      "conv2d_11 (Conv2D)              (None, 30, 76, 128)  295040      concatenate_1[0][0]              \n",
      "__________________________________________________________________________________________________\n",
      "dropout_6 (Dropout)             (None, 30, 76, 128)  0           conv2d_11[0][0]                  \n",
      "__________________________________________________________________________________________________\n",
      "conv2d_12 (Conv2D)              (None, 30, 76, 128)  147584      dropout_6[0][0]                  \n",
      "__________________________________________________________________________________________________\n",
      "conv2d_transpose_2 (Conv2DTrans (None, 60, 152, 64)  32832       conv2d_12[0][0]                  \n",
      "__________________________________________________________________________________________________\n",
      "concatenate_2 (Concatenate)     (None, 60, 152, 128) 0           conv2d_transpose_2[0][0]         \n",
      "                                                                 conv2d_6[0][0]                   \n",
      "__________________________________________________________________________________________________\n",
      "conv2d_13 (Conv2D)              (None, 60, 152, 64)  73792       concatenate_2[0][0]              \n",
      "__________________________________________________________________________________________________\n",
      "dropout_7 (Dropout)             (None, 60, 152, 64)  0           conv2d_13[0][0]                  \n",
      "__________________________________________________________________________________________________\n",
      "conv2d_14 (Conv2D)              (None, 60, 152, 64)  36928       dropout_7[0][0]                  \n",
      "__________________________________________________________________________________________________\n",
      "conv2d_transpose_3 (Conv2DTrans (None, 120, 304, 32) 8224        conv2d_14[0][0]                  \n",
      "__________________________________________________________________________________________________\n",
      "concatenate_3 (Concatenate)     (None, 120, 304, 64) 0           conv2d_transpose_3[0][0]         \n",
      "                                                                 conv2d_4[0][0]                   \n",
      "__________________________________________________________________________________________________\n",
      "conv2d_15 (Conv2D)              (None, 120, 304, 32) 18464       concatenate_3[0][0]              \n",
      "__________________________________________________________________________________________________\n",
      "dropout_8 (Dropout)             (None, 120, 304, 32) 0           conv2d_15[0][0]                  \n",
      "__________________________________________________________________________________________________\n",
      "conv2d_16 (Conv2D)              (None, 120, 304, 32) 9248        dropout_8[0][0]                  \n",
      "__________________________________________________________________________________________________\n",
      "conv2d_transpose_4 (Conv2DTrans (None, 240, 608, 16) 2064        conv2d_16[0][0]                  \n",
      "__________________________________________________________________________________________________\n",
      "concatenate_4 (Concatenate)     (None, 240, 608, 32) 0           conv2d_transpose_4[0][0]         \n",
      "                                                                 conv2d_2[0][0]                   \n",
      "__________________________________________________________________________________________________\n",
      "conv2d_17 (Conv2D)              (None, 240, 608, 16) 4624        concatenate_4[0][0]              \n",
      "__________________________________________________________________________________________________\n",
      "dropout_9 (Dropout)             (None, 240, 608, 16) 0           conv2d_17[0][0]                  \n",
      "__________________________________________________________________________________________________\n",
      "conv2d_18 (Conv2D)              (None, 240, 608, 16) 2320        dropout_9[0][0]                  \n",
      "__________________________________________________________________________________________________\n",
      "conv2d_19 (Conv2D)              (None, 240, 608, 1)  17          conv2d_18[0][0]                  \n",
      "==================================================================================================\n",
      "Total params: 1,941,105\n",
      "Trainable params: 1,941,105\n",
      "Non-trainable params: 0\n",
      "__________________________________________________________________________________________________\n"
     ]
    }
   ],
   "source": [
    "# Build U-Net model\n",
    "inputs = Input((IMG_HEIGHT, IMG_WIDTH, IMG_CHANNELS))\n",
    "s = Lambda(lambda x: x / 255) (inputs)\n",
    "print(s)\n",
    "c1 = Conv2D(16, (3, 3), activation='elu', kernel_initializer='he_normal', padding='same') (s)\n",
    "print(\"c1\",c1)\n",
    "c1 = Dropout(0.1) (c1)\n",
    "c1 = Conv2D(16, (3, 3), activation='elu', kernel_initializer='he_normal', padding='same') (c1)\n",
    "print(\"c1\",c1)\n",
    "p1 = MaxPooling2D((2, 2)) (c1)\n",
    "print(\"p1\",p1)\n",
    "\n",
    "c2 = Conv2D(32, (3, 3), activation='elu', kernel_initializer='he_normal', padding='same') (p1)\n",
    "print(\"c2\",c2)\n",
    "c2 = Dropout(0.1) (c2)\n",
    "c2 = Conv2D(32, (3, 3), activation='elu', kernel_initializer='he_normal', padding='same') (c2)\n",
    "print(\"c2\",c2)\n",
    "p2 = MaxPooling2D((2, 2)) (c2)\n",
    "print(\"p2\",p2)\n",
    "\n",
    "c3 = Conv2D(64, (3, 3), activation='elu', kernel_initializer='he_normal', padding='same') (p2)\n",
    "print(\"c3\",c3)\n",
    "c3 = Dropout(0.2) (c3)\n",
    "c3 = Conv2D(64, (3, 3), activation='elu', kernel_initializer='he_normal', padding='same') (c3)\n",
    "print(\"c3\",c3)\n",
    "p3 = MaxPooling2D((2, 2)) (c3)\n",
    "print(\"p3\",p3)\n",
    "\n",
    "c4 = Conv2D(128, (3, 3), activation='elu', kernel_initializer='he_normal', padding='same') (p3)\n",
    "print(\"c4\",c4)\n",
    "c4 = Dropout(0.2) (c4)\n",
    "c4 = Conv2D(128, (3, 3), activation='elu', kernel_initializer='he_normal', padding='same') (c4)\n",
    "print(\"c4\",c4)\n",
    "p4 = MaxPooling2D(pool_size=(2, 2)) (c4)\n",
    "print(\"p4\",p4)\n",
    "\n",
    "c5 = Conv2D(256, (3, 3), activation='elu', kernel_initializer='he_normal', padding='same') (p4)\n",
    "c5 = Dropout(0.3) (c5)\n",
    "c5 = Conv2D(256, (3, 3), activation='elu', kernel_initializer='he_normal', padding='same') (c5)\n",
    "\n",
    "u6 = Conv2DTranspose(128, (2, 2), strides=(2, 2), padding='same') (c5)\n",
    "u6 = concatenate([u6, c4])\n",
    "c6 = Conv2D(128, (3, 3), activation='elu', kernel_initializer='he_normal', padding='same') (u6)\n",
    "c6 = Dropout(0.2) (c6)\n",
    "c6 = Conv2D(128, (3, 3), activation='elu', kernel_initializer='he_normal', padding='same') (c6)\n",
    "\n",
    "u7 = Conv2DTranspose(64, (2, 2), strides=(2, 2), padding='same') (c6)\n",
    "u7 = concatenate([u7, c3])\n",
    "c7 = Conv2D(64, (3, 3), activation='elu', kernel_initializer='he_normal', padding='same') (u7)\n",
    "c7 = Dropout(0.2) (c7)\n",
    "c7 = Conv2D(64, (3, 3), activation='elu', kernel_initializer='he_normal', padding='same') (c7)\n",
    "\n",
    "u8 = Conv2DTranspose(32, (2, 2), strides=(2, 2), padding='same') (c7)\n",
    "u8 = concatenate([u8, c2])\n",
    "c8 = Conv2D(32, (3, 3), activation='elu', kernel_initializer='he_normal', padding='same') (u8)\n",
    "c8 = Dropout(0.1) (c8)\n",
    "c8 = Conv2D(32, (3, 3), activation='elu', kernel_initializer='he_normal', padding='same') (c8)\n",
    "\n",
    "u9 = Conv2DTranspose(16, (2, 2), strides=(2, 2), padding='same') (c8)\n",
    "u9 = concatenate([u9, c1], axis=3)\n",
    "c9 = Conv2D(16, (3, 3), activation='elu', kernel_initializer='he_normal', padding='same') (u9)\n",
    "c9 = Dropout(0.1) (c9)\n",
    "c9 = Conv2D(16, (3, 3), activation='elu', kernel_initializer='he_normal', padding='same') (c9)\n",
    "\n",
    "outputs = Conv2D(1, (1, 1), activation='sigmoid') (c9)\n",
    "\n",
    "model = Model(inputs=[inputs], outputs=[outputs])\n",
    "model.compile(optimizer='adam', loss='binary_crossentropy', metrics=[mean_iou])\n",
    "model.summary()"
   ]
  },
  {
   "cell_type": "code",
   "execution_count": 29,
   "metadata": {},
   "outputs": [
    {
     "name": "stdout",
     "output_type": "stream",
     "text": [
      "Train on 117 samples, validate on 13 samples\n",
      "Epoch 1/10\n",
      "117/117 [==============================] - 166s 1s/step - loss: 0.3613 - mean_iou: 0.3514 - val_loss: 0.3892 - val_mean_iou: 0.4100\n",
      "\n",
      "Epoch 00001: val_loss improved from inf to 0.38919, saving model to model-dsbowl2018-1.h5\n",
      "Epoch 2/10\n",
      "117/117 [==============================] - 199s 2s/step - loss: 0.3226 - mean_iou: 0.4227 - val_loss: 0.3815 - val_mean_iou: 0.4396\n",
      "\n",
      "Epoch 00002: val_loss improved from 0.38919 to 0.38149, saving model to model-dsbowl2018-1.h5\n",
      "Epoch 3/10\n",
      "117/117 [==============================] - 172s 1s/step - loss: 0.3778 - mean_iou: 0.4414 - val_loss: 0.4373 - val_mean_iou: 0.4460\n",
      "\n",
      "Epoch 00003: val_loss did not improve from 0.38149\n",
      "Epoch 4/10\n",
      "117/117 [==============================] - 223s 2s/step - loss: 0.3168 - mean_iou: 0.4504 - val_loss: 0.3365 - val_mean_iou: 0.4564\n",
      "\n",
      "Epoch 00004: val_loss improved from 0.38149 to 0.33646, saving model to model-dsbowl2018-1.h5\n",
      "Epoch 5/10\n",
      "117/117 [==============================] - 226s 2s/step - loss: 0.2825 - mean_iou: 0.4653 - val_loss: 0.3281 - val_mean_iou: 0.4743\n",
      "\n",
      "Epoch 00005: val_loss improved from 0.33646 to 0.32815, saving model to model-dsbowl2018-1.h5\n",
      "Epoch 6/10\n",
      "117/117 [==============================] - 215s 2s/step - loss: 0.2621 - mean_iou: 0.4842 - val_loss: 0.3423 - val_mean_iou: 0.4915\n",
      "\n",
      "Epoch 00006: val_loss did not improve from 0.32815\n",
      "Epoch 7/10\n",
      "117/117 [==============================] - 254s 2s/step - loss: 0.2480 - mean_iou: 0.4994 - val_loss: 0.3399 - val_mean_iou: 0.5062\n",
      "\n",
      "Epoch 00007: val_loss did not improve from 0.32815\n",
      "Epoch 8/10\n",
      "117/117 [==============================] - 189s 2s/step - loss: 0.2393 - mean_iou: 0.5123 - val_loss: 0.3149 - val_mean_iou: 0.5181\n",
      "\n",
      "Epoch 00008: val_loss improved from 0.32815 to 0.31492, saving model to model-dsbowl2018-1.h5\n",
      "Epoch 9/10\n",
      "117/117 [==============================] - 163s 1s/step - loss: 0.2349 - mean_iou: 0.5231 - val_loss: 0.3185 - val_mean_iou: 0.5280\n",
      "\n",
      "Epoch 00009: val_loss did not improve from 0.31492\n",
      "Epoch 10/10\n",
      "117/117 [==============================] - 167s 1s/step - loss: 0.2306 - mean_iou: 0.5321 - val_loss: 0.2950 - val_mean_iou: 0.5360\n",
      "\n",
      "Epoch 00010: val_loss improved from 0.31492 to 0.29496, saving model to model-dsbowl2018-1.h5\n"
     ]
    }
   ],
   "source": [
    "# Fit model\n",
    "earlystopper = EarlyStopping(patience=5, verbose=1)\n",
    "checkpointer = ModelCheckpoint('model-dsbowl2018-1.h5', verbose=1, save_best_only=True)\n",
    "results = model.fit(X_train, Y_train, validation_split=0.1, batch_size=16, epochs=10, \n",
    "                    callbacks=[earlystopper, checkpointer])"
   ]
  },
  {
   "cell_type": "code",
   "execution_count": 30,
   "metadata": {},
   "outputs": [
    {
     "name": "stdout",
     "output_type": "stream",
     "text": [
      "117/117 [==============================] - 38s 329ms/step\n",
      "13/13 [==============================] - 4s 337ms/step\n",
      "118/118 [==============================] - 53s 453ms/step\n"
     ]
    }
   ],
   "source": [
    "# Predict on train, val and test\n",
    "model = load_model('model-dsbowl2018-1.h5', custom_objects={'mean_iou': mean_iou})\n",
    "preds_train = model.predict(X_train[:int(X_train.shape[0]*0.9)], verbose=1)\n",
    "preds_val = model.predict(X_train[int(X_train.shape[0]*0.9):], verbose=1)\n",
    "preds_test = model.predict(X_test, verbose=1)\n",
    "\n",
    "# Threshold predictions\n",
    "preds_train_t = (preds_train > 0.5).astype(np.uint8)\n",
    "preds_val_t = (preds_val > 0.5).astype(np.uint8)\n",
    "preds_test_t = (preds_test > 0.5).astype(np.uint8)\n",
    "\n",
    "# Create list of upsampled test masks\n",
    "preds_test_upsampled = []\n",
    "for i in range(len(preds_test)):\n",
    "    preds_test_upsampled.append(resize(np.squeeze(preds_test[i]), \n",
    "                                       (sizes_test[i][0], sizes_test[i][1]), \n",
    "                                       mode='constant', preserve_range=True))"
   ]
  },
  {
   "cell_type": "code",
   "execution_count": 23,
   "metadata": {},
   "outputs": [
    {
     "data": {
      "image/png": "[encoded data removed]",
      "text/plain": [
       "<Figure size 432x288 with 1 Axes>"
      ]
     },
     "metadata": {
      "needs_background": "light"
     },
     "output_type": "display_data"
    },
    {
     "data": {
      "image/png": "[encoded data removed]",
      "text/plain": [
       "<Figure size 432x288 with 1 Axes>"
      ]
     },
     "metadata": {
      "needs_background": "light"
     },
     "output_type": "display_data"
    },
    {
     "data": {
      "image/png": "[encoded data removed]",
      "text/plain": [
       "<Figure size 432x288 with 2 Axes>"
      ]
     },
     "metadata": {
      "needs_background": "light"
     },
     "output_type": "display_data"
    }
   ],
   "source": [
    "# Perform a sanity check on some random training samples\n",
    "ix = random.randint(0, len(preds_train_t))\n",
    "imshow(X_train[ix])\n",
    "plt.show()\n",
    "imshow(np.squeeze(Y_train[ix]))\n",
    "plt.show()\n",
    "imshow(np.squeeze(preds_train_t[ix]))\n",
    "plt.show()"
   ]
  },
  {
   "cell_type": "code",
   "execution_count": 31,
   "metadata": {},
   "outputs": [
    {
     "data": {
      "image/png": "[encoded data removed]",
      "text/plain": [
       "<Figure size 432x288 with 1 Axes>"
      ]
     },
     "metadata": {
      "needs_background": "light"
     },
     "output_type": "display_data"
    },
    {
     "data": {
      "image/png": "[encoded data removed]",
      "text/plain": [
       "<Figure size 432x288 with 1 Axes>"
      ]
     },
     "metadata": {
      "needs_background": "light"
     },
     "output_type": "display_data"
    },
    {
     "data": {
      "image/png": "[encoded data removed]",
      "text/plain": [
       "<Figure size 432x288 with 2 Axes>"
      ]
     },
     "metadata": {
      "needs_background": "light"
     },
     "output_type": "display_data"
    }
   ],
   "source": [
    "# Perform a sanity check on some random validation samples\n",
    "ix = random.randint(0, len(preds_val_t))\n",
    "imshow(X_train[int(X_train.shape[0]*0.9):][ix])\n",
    "plt.show()\n",
    "imshow(np.squeeze(Y_train[int(Y_train.shape[0]*0.9):][ix]))\n",
    "plt.show()\n",
    "imshow(np.squeeze(preds_val_t[ix]))\n",
    "plt.show()"
   ]
  },
  {
   "cell_type": "code",
   "execution_count": 25,
   "metadata": {},
   "outputs": [],
   "source": [
    "# Run-length encoding stolen from https://www.kaggle.com/rakhlin/fast-run-length-encoding-python\n",
    "def rle_encoding(x):\n",
    "    dots = np.where(x.T.flatten() == 1)[0]\n",
    "    run_lengths = []\n",
    "    prev = -2\n",
    "    for b in dots:\n",
    "        if (b>prev+1): run_lengths.extend((b + 1, 0))\n",
    "        run_lengths[-1] += 1\n",
    "        prev = b\n",
    "    return run_lengths\n",
    "\n",
    "def prob_to_rles(x, cutoff=0.5):\n",
    "    lab_img = label(x > cutoff)\n",
    "    for i in range(1, lab_img.max() + 1):\n",
    "        yield rle_encoding(lab_img == i)"
   ]
  },
  {
   "cell_type": "code",
   "execution_count": 26,
   "metadata": {},
   "outputs": [],
   "source": [
    "new_test_ids = []\n",
    "rles = []\n",
    "for n, id_ in enumerate(test_ids):\n",
    "    rle = list(prob_to_rles(preds_test_upsampled[n]))\n",
    "    rles.extend(rle)\n",
    "    new_test_ids.extend([id_] * len(rle))"
   ]
  },
  {
   "cell_type": "code",
   "execution_count": 28,
   "metadata": {},
   "outputs": [],
   "source": [
    "# Create submission DataFrame\n",
    "sub = pd.DataFrame()\n",
    "sub['ImageId'] = new_test_ids\n",
    "sub['EncodedPixels'] = pd.Series(rles).apply(lambda x: ' '.join(str(y) for y in x))\n",
    "sub.to_csv('sub-dsbowl2018-1.csv', index=False)"
   ]
  },
  {
   "cell_type": "code",
   "execution_count": null,
   "metadata": {},
   "outputs": [],
   "source": []
  }
 ],
 "metadata": {
  "kernelspec": {
   "display_name": "Python 3",
   "language": "python",
   "name": "python3"
  },
  "language_info": {
   "codemirror_mode": {
    "name": "ipython",
    "version": 3
   },
   "file_extension": ".py",
   "mimetype": "text/x-python",
   "name": "python",
   "nbconvert_exporter": "python",
   "pygments_lexer": "ipython3",
   "version": "3.7.6"
  }
 },
 "nbformat": 4,
 "nbformat_minor": 4
}
