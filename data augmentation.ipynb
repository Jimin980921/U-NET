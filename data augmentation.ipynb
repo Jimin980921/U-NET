{
 "cells": [
  {
   "cell_type": "markdown",
   "metadata": {},
   "source": [
    "### 지정맥 영상용 data augmentation\n",
    "\n",
    "Keras의 ImageDataGenerator클래스를 사용하여 data augmentation하는 코드이다.\n",
    "\n",
    "ImageDataGenerator클래스는 생성 시 인자로 다양한 변수를 받는데 그 중에 brightness_range=[a,b]는 밝기 기준 augmentation 수행 코드이다.\n",
    "\n",
    "a가 0.5이면 이미지는 최소 0.5배 밝기가 낮아지고 b가 1.5면 이미지는 최대 1.5배 밝기가 높아진다.\n",
    "\n",
    "ImageDataGenerator클래스는 [a,b] 사이의 값을 랜덤하게 뽑아 augmentation한다. \n",
    "\n",
    "밝기 기준으로 augmentation하는 코드는 바로 아래 Cell에 있다."
   ]
  },
  {
   "cell_type": "code",
   "execution_count": 71,
   "metadata": {},
   "outputs": [
    {
     "name": "stdout",
     "output_type": "stream",
     "text": [
      "Windows-10-10.0.18362-SP0\n"
     ]
    },
    {
     "ename": "KeyboardInterrupt",
     "evalue": "",
     "output_type": "error",
     "traceback": [
      "\u001b[1;31m---------------------------------------------------------------------------\u001b[0m",
      "\u001b[1;31mKeyboardInterrupt\u001b[0m                         Traceback (most recent call last)",
      "\u001b[1;32m<ipython-input-71-405f84884295>\u001b[0m in \u001b[0;36m<module>\u001b[1;34m\u001b[0m\n\u001b[0;32m     56\u001b[0m             \u001b[0minput_img\u001b[0m \u001b[1;33m=\u001b[0m \u001b[0mimg_to_array\u001b[0m\u001b[1;33m(\u001b[0m\u001b[0mpil_img\u001b[0m\u001b[1;33m)\u001b[0m \u001b[1;31m# np.shape(150, 60, 1)\u001b[0m\u001b[1;33m\u001b[0m\u001b[1;33m\u001b[0m\u001b[0m\n\u001b[0;32m     57\u001b[0m             \u001b[0minput_img\u001b[0m \u001b[1;33m=\u001b[0m \u001b[0minput_img\u001b[0m\u001b[1;33m[\u001b[0m\u001b[1;32mNone\u001b[0m\u001b[1;33m]\u001b[0m \u001b[1;31m# np.shape(1, 150, 60, 1)\u001b[0m\u001b[1;33m\u001b[0m\u001b[1;33m\u001b[0m\u001b[0m\n\u001b[1;32m---> 58\u001b[1;33m             \u001b[0mbright\u001b[0m\u001b[1;33m(\u001b[0m\u001b[1;33m)\u001b[0m\u001b[1;33m\u001b[0m\u001b[1;33m\u001b[0m\u001b[0m\n\u001b[0m\u001b[0;32m     59\u001b[0m             \u001b[0mContrast\u001b[0m\u001b[1;33m(\u001b[0m\u001b[1;33m)\u001b[0m\u001b[1;33m\u001b[0m\u001b[1;33m\u001b[0m\u001b[0m\n\u001b[0;32m     60\u001b[0m             \u001b[0mMixture\u001b[0m\u001b[1;33m(\u001b[0m\u001b[1;33m)\u001b[0m\u001b[1;33m\u001b[0m\u001b[1;33m\u001b[0m\u001b[0m\n",
      "\u001b[1;32m<ipython-input-62-8b50a03c7c32>\u001b[0m in \u001b[0;36mbright\u001b[1;34m()\u001b[0m\n\u001b[0;32m      5\u001b[0m     \u001b[0mi\u001b[0m \u001b[1;33m=\u001b[0m \u001b[1;36m0\u001b[0m\u001b[1;33m\u001b[0m\u001b[1;33m\u001b[0m\u001b[0m\n\u001b[0;32m      6\u001b[0m     \u001b[1;31m#'C:/Users/jmlee/Desktop/4학년 1학기/졸프/U-Net/정맥전체/[SEG]홍성용_9_9.bmp'\u001b[0m\u001b[1;33m\u001b[0m\u001b[1;33m\u001b[0m\u001b[1;33m\u001b[0m\u001b[0m\n\u001b[1;32m----> 7\u001b[1;33m     \u001b[1;32mfor\u001b[0m \u001b[0mbatch\u001b[0m \u001b[1;32min\u001b[0m \u001b[0mb_datagen\u001b[0m\u001b[1;33m.\u001b[0m\u001b[0mflow\u001b[0m\u001b[1;33m(\u001b[0m\u001b[0minput_img\u001b[0m\u001b[1;33m,\u001b[0m \u001b[0mbatch_size\u001b[0m\u001b[1;33m=\u001b[0m\u001b[1;36m1\u001b[0m\u001b[1;33m,\u001b[0m \u001b[0msave_to_dir\u001b[0m\u001b[1;33m=\u001b[0m\u001b[0mBrightness_IMG_SAVE_PATH\u001b[0m\u001b[1;33m,\u001b[0m \u001b[0msave_prefix\u001b[0m\u001b[1;33m=\u001b[0m\u001b[0mf\u001b[0m\u001b[1;33m.\u001b[0m\u001b[0msplit\u001b[0m\u001b[1;33m(\u001b[0m\u001b[1;34m'.jpg'\u001b[0m\u001b[1;33m)\u001b[0m\u001b[1;33m[\u001b[0m\u001b[1;36m0\u001b[0m\u001b[1;33m]\u001b[0m\u001b[1;33m,\u001b[0m \u001b[0msave_format\u001b[0m\u001b[1;33m=\u001b[0m\u001b[1;34m'jpg'\u001b[0m\u001b[1;33m)\u001b[0m\u001b[1;33m:\u001b[0m\u001b[1;33m\u001b[0m\u001b[1;33m\u001b[0m\u001b[0m\n\u001b[0m\u001b[0;32m      8\u001b[0m         \u001b[0mi\u001b[0m \u001b[1;33m+=\u001b[0m \u001b[1;36m1\u001b[0m\u001b[1;33m\u001b[0m\u001b[1;33m\u001b[0m\u001b[0m\n\u001b[0;32m      9\u001b[0m         \u001b[1;32mif\u001b[0m \u001b[0mi\u001b[0m \u001b[1;33m>\u001b[0m \u001b[1;36m20\u001b[0m\u001b[1;33m:\u001b[0m\u001b[1;33m\u001b[0m\u001b[1;33m\u001b[0m\u001b[0m\n",
      "\u001b[1;32m~\\anaconda3\\lib\\site-packages\\keras_preprocessing\\image\\iterator.py\u001b[0m in \u001b[0;36m__next__\u001b[1;34m(self, *args, **kwargs)\u001b[0m\n\u001b[0;32m    102\u001b[0m \u001b[1;33m\u001b[0m\u001b[0m\n\u001b[0;32m    103\u001b[0m     \u001b[1;32mdef\u001b[0m \u001b[0m__next__\u001b[0m\u001b[1;33m(\u001b[0m\u001b[0mself\u001b[0m\u001b[1;33m,\u001b[0m \u001b[1;33m*\u001b[0m\u001b[0margs\u001b[0m\u001b[1;33m,\u001b[0m \u001b[1;33m**\u001b[0m\u001b[0mkwargs\u001b[0m\u001b[1;33m)\u001b[0m\u001b[1;33m:\u001b[0m\u001b[1;33m\u001b[0m\u001b[1;33m\u001b[0m\u001b[0m\n\u001b[1;32m--> 104\u001b[1;33m         \u001b[1;32mreturn\u001b[0m \u001b[0mself\u001b[0m\u001b[1;33m.\u001b[0m\u001b[0mnext\u001b[0m\u001b[1;33m(\u001b[0m\u001b[1;33m*\u001b[0m\u001b[0margs\u001b[0m\u001b[1;33m,\u001b[0m \u001b[1;33m**\u001b[0m\u001b[0mkwargs\u001b[0m\u001b[1;33m)\u001b[0m\u001b[1;33m\u001b[0m\u001b[1;33m\u001b[0m\u001b[0m\n\u001b[0m\u001b[0;32m    105\u001b[0m \u001b[1;33m\u001b[0m\u001b[0m\n\u001b[0;32m    106\u001b[0m     \u001b[1;32mdef\u001b[0m \u001b[0mnext\u001b[0m\u001b[1;33m(\u001b[0m\u001b[0mself\u001b[0m\u001b[1;33m)\u001b[0m\u001b[1;33m:\u001b[0m\u001b[1;33m\u001b[0m\u001b[1;33m\u001b[0m\u001b[0m\n",
      "\u001b[1;32m~\\anaconda3\\lib\\site-packages\\keras_preprocessing\\image\\iterator.py\u001b[0m in \u001b[0;36mnext\u001b[1;34m(self)\u001b[0m\n\u001b[0;32m    114\u001b[0m         \u001b[1;31m# The transformation of images is not under thread lock\u001b[0m\u001b[1;33m\u001b[0m\u001b[1;33m\u001b[0m\u001b[1;33m\u001b[0m\u001b[0m\n\u001b[0;32m    115\u001b[0m         \u001b[1;31m# so it can be done in parallel\u001b[0m\u001b[1;33m\u001b[0m\u001b[1;33m\u001b[0m\u001b[1;33m\u001b[0m\u001b[0m\n\u001b[1;32m--> 116\u001b[1;33m         \u001b[1;32mreturn\u001b[0m \u001b[0mself\u001b[0m\u001b[1;33m.\u001b[0m\u001b[0m_get_batches_of_transformed_samples\u001b[0m\u001b[1;33m(\u001b[0m\u001b[0mindex_array\u001b[0m\u001b[1;33m)\u001b[0m\u001b[1;33m\u001b[0m\u001b[1;33m\u001b[0m\u001b[0m\n\u001b[0m\u001b[0;32m    117\u001b[0m \u001b[1;33m\u001b[0m\u001b[0m\n\u001b[0;32m    118\u001b[0m     \u001b[1;32mdef\u001b[0m \u001b[0m_get_batches_of_transformed_samples\u001b[0m\u001b[1;33m(\u001b[0m\u001b[0mself\u001b[0m\u001b[1;33m,\u001b[0m \u001b[0mindex_array\u001b[0m\u001b[1;33m)\u001b[0m\u001b[1;33m:\u001b[0m\u001b[1;33m\u001b[0m\u001b[1;33m\u001b[0m\u001b[0m\n",
      "\u001b[1;32m~\\anaconda3\\lib\\site-packages\\keras_preprocessing\\image\\numpy_array_iterator.py\u001b[0m in \u001b[0;36m_get_batches_of_transformed_samples\u001b[1;34m(self, index_array)\u001b[0m\n\u001b[0;32m    163\u001b[0m                     \u001b[0mhash\u001b[0m\u001b[1;33m=\u001b[0m\u001b[0mnp\u001b[0m\u001b[1;33m.\u001b[0m\u001b[0mrandom\u001b[0m\u001b[1;33m.\u001b[0m\u001b[0mrandint\u001b[0m\u001b[1;33m(\u001b[0m\u001b[1;36m1e4\u001b[0m\u001b[1;33m)\u001b[0m\u001b[1;33m,\u001b[0m\u001b[1;33m\u001b[0m\u001b[1;33m\u001b[0m\u001b[0m\n\u001b[0;32m    164\u001b[0m                     format=self.save_format)\n\u001b[1;32m--> 165\u001b[1;33m                 \u001b[0mimg\u001b[0m\u001b[1;33m.\u001b[0m\u001b[0msave\u001b[0m\u001b[1;33m(\u001b[0m\u001b[0mos\u001b[0m\u001b[1;33m.\u001b[0m\u001b[0mpath\u001b[0m\u001b[1;33m.\u001b[0m\u001b[0mjoin\u001b[0m\u001b[1;33m(\u001b[0m\u001b[0mself\u001b[0m\u001b[1;33m.\u001b[0m\u001b[0msave_to_dir\u001b[0m\u001b[1;33m,\u001b[0m \u001b[0mfname\u001b[0m\u001b[1;33m)\u001b[0m\u001b[1;33m)\u001b[0m\u001b[1;33m\u001b[0m\u001b[1;33m\u001b[0m\u001b[0m\n\u001b[0m\u001b[0;32m    166\u001b[0m         \u001b[0mbatch_x_miscs\u001b[0m \u001b[1;33m=\u001b[0m \u001b[1;33m[\u001b[0m\u001b[0mxx\u001b[0m\u001b[1;33m[\u001b[0m\u001b[0mindex_array\u001b[0m\u001b[1;33m]\u001b[0m \u001b[1;32mfor\u001b[0m \u001b[0mxx\u001b[0m \u001b[1;32min\u001b[0m \u001b[0mself\u001b[0m\u001b[1;33m.\u001b[0m\u001b[0mx_misc\u001b[0m\u001b[1;33m]\u001b[0m\u001b[1;33m\u001b[0m\u001b[1;33m\u001b[0m\u001b[0m\n\u001b[0;32m    167\u001b[0m         output = (batch_x if batch_x_miscs == []\n",
      "\u001b[1;32m~\\anaconda3\\lib\\site-packages\\PIL\\Image.py\u001b[0m in \u001b[0;36msave\u001b[1;34m(self, fp, format, **params)\u001b[0m\n\u001b[0;32m   2097\u001b[0m                 \u001b[0mfp\u001b[0m \u001b[1;33m=\u001b[0m \u001b[0mbuiltins\u001b[0m\u001b[1;33m.\u001b[0m\u001b[0mopen\u001b[0m\u001b[1;33m(\u001b[0m\u001b[0mfilename\u001b[0m\u001b[1;33m,\u001b[0m \u001b[1;34m\"r+b\"\u001b[0m\u001b[1;33m)\u001b[0m\u001b[1;33m\u001b[0m\u001b[1;33m\u001b[0m\u001b[0m\n\u001b[0;32m   2098\u001b[0m             \u001b[1;32melse\u001b[0m\u001b[1;33m:\u001b[0m\u001b[1;33m\u001b[0m\u001b[1;33m\u001b[0m\u001b[0m\n\u001b[1;32m-> 2099\u001b[1;33m                 \u001b[0mfp\u001b[0m \u001b[1;33m=\u001b[0m \u001b[0mbuiltins\u001b[0m\u001b[1;33m.\u001b[0m\u001b[0mopen\u001b[0m\u001b[1;33m(\u001b[0m\u001b[0mfilename\u001b[0m\u001b[1;33m,\u001b[0m \u001b[1;34m\"w+b\"\u001b[0m\u001b[1;33m)\u001b[0m\u001b[1;33m\u001b[0m\u001b[1;33m\u001b[0m\u001b[0m\n\u001b[0m\u001b[0;32m   2100\u001b[0m \u001b[1;33m\u001b[0m\u001b[0m\n\u001b[0;32m   2101\u001b[0m         \u001b[1;32mtry\u001b[0m\u001b[1;33m:\u001b[0m\u001b[1;33m\u001b[0m\u001b[1;33m\u001b[0m\u001b[0m\n",
      "\u001b[1;31mKeyboardInterrupt\u001b[0m: "
     ]
    }
   ],
   "source": [
    "import os\n",
    "import numpy as np\n",
    "import cv2\n",
    "from keras.preprocessing.image import ImageDataGenerator, img_to_array\n",
    "from PIL import Image\n",
    "from skimage import exposure\n",
    "import glob\n",
    "import platform\n",
    "\n",
    "\n",
    "# Brightness_IMG_SAVE_PATH에는 밝기기준 augmentation 결과가 저장됨\n",
    "Brightness_IMG_SAVE_PATH = \"C:/Users/jmlee/Desktop/4학년 1학기/졸프/U-Net/Brightness_result\"\n",
    "# Contrast_IMG_SAVE_PATH에는 대비기준 augmentation 결과가 저장됨\n",
    "Contrast_IMG_SAVE_PATH = \"C:/Users/jmlee/Desktop/4학년 1학기/졸프/U-Net/Contrast_result\"\n",
    "# Mixture_IMG_SAVE_PATH에는 밝기와 대비가 모두 augmentation에 저장됨\n",
    "Mixture_IMG_SAVE_PATH = \"C:/Users/jmlee/Desktop/4학년 1학기/졸프/U-Net/Mixture_result\"\n",
    "\n",
    "if not os.path.exists(Brightness_IMG_SAVE_PATH):\n",
    "    os.mkdir(Brightness_IMG_SAVE_PATH)\n",
    "if not os.path.exists(Contrast_IMG_SAVE_PATH):\n",
    "    os.mkdir(Contrast_IMG_SAVE_PATH)\n",
    "if not os.path.exists(Mixture_IMG_SAVE_PATH):\n",
    "    os.mkdir(Mixture_IMG_SAVE_PATH)\n",
    "    \n",
    "# data augmentation을 담당하는 ImageDataGenerator 클래스 아래 코드는 밝기값 도메인에서의 data_augmentation을 진행\n",
    "# brightness_range=[a,b]에서 a가 0.5이면 이미지는 최소 0.5배 밝기가 낮아지고 b가 1.5면 이미지는 최대 1.5배 밝기가 높아진다.\n",
    "b_datagen = ImageDataGenerator(brightness_range=[0.5,1.5], width_shift_range=0.05, height_shift_range=0.05)\n",
    "\n",
    "# opencv 라이브러리를 통해 이미지 읽어오는 코드\n",
    "# cv_img = [cv2.imread(file) for file in glob.glob(\"./정맥전체/*.bmp\")]\n",
    "# for f in os.listdir(train_path):\n",
    "#     files =(train_path+'/'+f)\n",
    "#     img=cv2.imread(r\"C:\\Users\\jmlee\\Desktop\\4학년 1학기\\졸프\\U-Net\\정맥전체/*.bmp\",cv2.IMREAD_COLOR)\n",
    "\n",
    "#한글이름 사진 로드\n",
    "def hangulFilePathImageRead (filePath ) :\n",
    "\n",
    "    stream = open( filePath.encode(\"utf-8\") , \"rb\")\n",
    "    bytes = bytearray(stream.read())\n",
    "    numpyArray = np.asarray(bytes, dtype=np.uint8)\n",
    "\n",
    "    return cv2.imdecode(numpyArray , cv2.IMREAD_COLOR)  #3채널로 가져오기\n",
    "\n",
    "if __name__ == '__main__':\n",
    "    # OS Platform 정보\n",
    "    print(platform.platform())\n",
    "    for f in os.listdir(train_path):  \n",
    "        if f.split('.')[1] =='bmp':\n",
    "            filePath = (r\"C:/Users/jmlee/Desktop/4학년 1학기/졸프/U-Net/정맥전체\"+'/'+f)  \n",
    "            cv_img = hangulFilePathImageRead(filePath)\n",
    "            # ImageDataGenerator 클래스의 경우 파이썬 이미지 라이브러리인 PIL 이미지 입력을 기준으로함으로 opencv 이미지에서 PIL이미지로 변환하여야한다.\n",
    "            cv_img = cv2.cvtColor(cv_img,cv2.COLOR_BGR2RGB)\n",
    "            pil_img = Image.fromarray(cv_img)\n",
    "            # pil_img를 ImageDataGenerator클래스의 flow함수 입력으로 넣기 위해 PIL img 를 array로 바꾼후 랭크가 4인 형태로 변환\n",
    "            # ImageDataGenerator 클래스의 함수들은 기본적으로 mini_batch를 지원하기 때문에 랭크가 4인 형태이다. example : np.shape 가 ( none, image.rows, image.cols, image.depth) 이다.\n",
    "            input_img = img_to_array(pil_img) # np.shape(150, 60, 1)\n",
    "            input_img = input_img[None] # np.shape(1, 150, 60, 1)\n",
    "            bright()\n",
    "            Contrast()\n",
    "            Mixture()\n",
    "            "
   ]
  },
  {
   "cell_type": "code",
   "execution_count": 59,
   "metadata": {},
   "outputs": [
    {
     "data": {
      "text/plain": [
       "(60, 152, 3)"
      ]
     },
     "execution_count": 59,
     "metadata": {},
     "output_type": "execute_result"
    }
   ],
   "source": [
    "type(cv_img)\n",
    "cv_img.shape"
   ]
  },
  {
   "cell_type": "code",
   "execution_count": 60,
   "metadata": {},
   "outputs": [
    {
     "data": {
      "text/plain": [
       "'[SEG]홍성용_9_9_0_9601.jpg'"
      ]
     },
     "execution_count": 60,
     "metadata": {},
     "output_type": "execute_result"
    }
   ],
   "source": [
    "f"
   ]
  },
  {
   "cell_type": "code",
   "execution_count": 45,
   "metadata": {},
   "outputs": [
    {
     "data": {
      "text/plain": [
       "array([[[[  0.,   0.,   0.],\n",
       "         [  0.,   0.,   0.],\n",
       "         [  0.,   0.,   0.],\n",
       "         ...,\n",
       "         [222., 222., 222.],\n",
       "         [222., 222., 222.],\n",
       "         [222., 222., 222.]],\n",
       "\n",
       "        [[  0.,   0.,   0.],\n",
       "         [  0.,   0.,   0.],\n",
       "         [  0.,   0.,   0.],\n",
       "         ...,\n",
       "         [224., 224., 224.],\n",
       "         [224., 224., 224.],\n",
       "         [224., 224., 224.]],\n",
       "\n",
       "        [[  0.,   0.,   0.],\n",
       "         [  0.,   0.,   0.],\n",
       "         [  0.,   0.,   0.],\n",
       "         ...,\n",
       "         [227., 227., 227.],\n",
       "         [227., 227., 227.],\n",
       "         [227., 227., 227.]],\n",
       "\n",
       "        ...,\n",
       "\n",
       "        [[133., 133., 133.],\n",
       "         [130., 130., 130.],\n",
       "         [130., 130., 130.],\n",
       "         ...,\n",
       "         [231., 231., 231.],\n",
       "         [237., 237., 237.],\n",
       "         [237., 237., 237.]],\n",
       "\n",
       "        [[136., 136., 136.],\n",
       "         [133., 133., 133.],\n",
       "         [134., 134., 134.],\n",
       "         ...,\n",
       "         [226., 226., 226.],\n",
       "         [227., 227., 227.],\n",
       "         [227., 227., 227.]],\n",
       "\n",
       "        [[105., 105., 105.],\n",
       "         [105., 105., 105.],\n",
       "         [109., 109., 109.],\n",
       "         ...,\n",
       "         [223., 223., 223.],\n",
       "         [223., 223., 223.],\n",
       "         [223., 223., 223.]]]], dtype=float32)"
      ]
     },
     "execution_count": 45,
     "metadata": {},
     "output_type": "execute_result"
    }
   ],
   "source": [
    "input_img"
   ]
  },
  {
   "cell_type": "code",
   "execution_count": 62,
   "metadata": {},
   "outputs": [],
   "source": [
    "# 아래는 랜덤하게 생성된 이미지를 20개 생성하고 Brightness_IMG_SAVE_PATH에 저장하는 코드\n",
    "# the .flow() command below generates batches of randomly transformed images \n",
    "# and saves the results to the IMG_SAVE_PATH directory\n",
    "def bright():\n",
    "    i = 0\n",
    "    #'C:/Users/jmlee/Desktop/4학년 1학기/졸프/U-Net/정맥전체/[SEG]홍성용_9_9.bmp'\n",
    "    for batch in b_datagen.flow(input_img, batch_size=1, save_to_dir=Brightness_IMG_SAVE_PATH, save_prefix=f.split('.jpg')[0], save_format='jpg'):\n",
    "        i += 1\n",
    "        if i > 20:\n",
    "            break  # otherwise the generator would loop indefinitely"
   ]
  },
  {
   "cell_type": "code",
   "execution_count": 63,
   "metadata": {},
   "outputs": [
    {
     "data": {
      "text/plain": [
       "'[SEG]강병준_1_1.bmp'"
      ]
     },
     "execution_count": 63,
     "metadata": {},
     "output_type": "execute_result"
    }
   ],
   "source": [
    "f.split('.jpg')[0]"
   ]
  },
  {
   "cell_type": "markdown",
   "metadata": {},
   "source": [
    "# contrast를 변형하는 data augmentation\n",
    "\n",
    "contrast를 변형하는 augmentation은 ImageDataGenerator가 기본 인수로 제공하지 않기 때문에 따로 contrast를 변형하는 함수를 만들어야한다.\n",
    "\n",
    "ImageDataGenerator클래스 생성 시에 사용된 함수는 get_random_contrast_stretch()로 랜덤 정수를 생성해 이미지의 contrast를 랜덤하게 stretch시킨다."
   ]
  },
  {
   "cell_type": "code",
   "execution_count": 67,
   "metadata": {},
   "outputs": [],
   "source": [
    "# contrast_stretch을 수행하는 함수\n",
    "def get_random_contrast_stretch():\n",
    "    \n",
    "    def random_contrast_stretch(input_img):\n",
    "        # Contrast stretching by random int\n",
    "        img_rescale = exposure.rescale_intensity(input_img, in_range=tuple([np.random.randint(0,100), np.random.randint(155,255)]))\n",
    "        return img_rescale\n",
    "\n",
    "    return random_contrast_stretch\n",
    "\n",
    "\n",
    "c_datagen = ImageDataGenerator(width_shift_range=0.05, height_shift_range=0.05, preprocessing_function=get_random_contrast_stretch())\n"
   ]
  },
  {
   "cell_type": "code",
   "execution_count": 69,
   "metadata": {},
   "outputs": [],
   "source": [
    "# ImageDataGenerator의 flow함수를 사용하면 랜덤하게 변형된 이미지가 생성된다. \n",
    "# 아래는 랜덤하게 생성된 이미지를 20개 생성하고 저장하는 코드\n",
    "def Contrast():\n",
    "    i = 0\n",
    "    for batch in c_datagen.flow(input_img, batch_size=1, save_to_dir=Contrast_IMG_SAVE_PATH, save_prefix=f.split('.jpg')[0], save_format='jpg'):\n",
    "        i += 1\n",
    "        if i > 20:\n",
    "            break  # otherwise the generator would loop indefinitely"
   ]
  },
  {
   "cell_type": "markdown",
   "metadata": {},
   "source": [
    "# Brightness와 contrast를 모두 사용한 data augmentation\n",
    "\n",
    "ImageDataGenerator에 'brightness_range'와 'preprocessing_function=get_random_contrast_stretch()'을 설정하게 되면 \n",
    "\n",
    "contrast와 밝기를 동시에 사용하여 data augmentation을 수행할 수 있다."
   ]
  },
  {
   "cell_type": "code",
   "execution_count": 68,
   "metadata": {},
   "outputs": [],
   "source": [
    "def Mixture():\n",
    "    m_datagen = ImageDataGenerator(brightness_range=[0.8,1.2], width_shift_range=0.05, height_shift_range=0.05, preprocessing_function=get_random_contrast_stretch())\n",
    "\n",
    "    i = 0\n",
    "    for batch in m_datagen.flow(input_img, batch_size=1, save_to_dir=Mixture_IMG_SAVE_PATH, save_prefix=f.split('.jpg')[0], save_format='jpg'):\n",
    "        i += 1\n",
    "        if i > 20:\n",
    "            break  # otherwise the generator would loop indefinitely"
   ]
  },
  {
   "cell_type": "code",
   "execution_count": null,
   "metadata": {},
   "outputs": [],
   "source": []
  }
 ],
 "metadata": {
  "kernelspec": {
   "display_name": "Python 3",
   "language": "python",
   "name": "python3"
  },
  "language_info": {
   "codemirror_mode": {
    "name": "ipython",
    "version": 3
   },
   "file_extension": ".py",
   "mimetype": "text/x-python",
   "name": "python",
   "nbconvert_exporter": "python",
   "pygments_lexer": "ipython3",
   "version": "3.7.6"
  }
 },
 "nbformat": 4,
 "nbformat_minor": 4
}
